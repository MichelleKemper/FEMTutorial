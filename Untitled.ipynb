{
 "cells": [
  {
   "cell_type": "markdown",
   "id": "d3f510dc",
   "metadata": {},
   "source": [
    "### The Poisson problem on a unit square\n",
    "\n",
    "FEniCS tutorial demo program: Poisson equation with Dirichlet conditions.  \n",
    "Test problem is chosen to give an exact solution at all nodes of the mesh.  \n",
    "  \n",
    "  -Laplace(u) = f    in the unit square  \n",
    "            u = u_D  on the boundary  \n",
    "  \n",
    "  u_D = 1 + x^2 + 2y^2  \n",
    "    f = -6\n"
   ]
  },
  {
   "cell_type": "markdown",
   "id": "0088a73c",
   "metadata": {},
   "source": [
    "##### Loading the needed libraries"
   ]
  },
  {
   "cell_type": "code",
   "execution_count": null,
   "id": "8b99d24c",
   "metadata": {},
   "outputs": [],
   "source": [
    "from fenics import *\n",
    "import matplotlib.pyplot as plt\n",
    "import numpy as np"
   ]
  },
  {
   "cell_type": "markdown",
   "id": "39dfd70a",
   "metadata": {},
   "source": [
    "##### Create and plot the mesh"
   ]
  },
  {
   "cell_type": "code",
   "execution_count": null,
   "id": "2efd4920",
   "metadata": {},
   "outputs": [],
   "source": [
    "# Create mesh and define function space\n",
    "mesh = UnitSquareMesh(8, 8)\n",
    "V = FunctionSpace(mesh, 'P', 1)\n",
    "\n",
    "# Plot mesh\n",
    "plot(mesh)\n",
    "plt.show()"
   ]
  },
  {
   "cell_type": "markdown",
   "id": "4fd69cc7",
   "metadata": {},
   "source": [
    "##### Set the solution u equal to 1 + x^2 + 2y^2 on the boundary"
   ]
  },
  {
   "cell_type": "code",
   "execution_count": null,
   "id": "ef05e023",
   "metadata": {},
   "outputs": [],
   "source": [
    "# Define boundary condition\n",
    "def boundary(x, on_boundary):\n",
    "    return on_boundary\n",
    "\n",
    "u_D = Expression('1 + x[0]*x[0] + 2*x[1]*x[1]', degree=2)\n",
    "\n",
    "bc = DirichletBC(V, u_D, boundary)"
   ]
  },
  {
   "cell_type": "markdown",
   "id": "8c554a3f",
   "metadata": {},
   "source": [
    "##### Formulate the variational problem\n",
    "##### Solve and plot the solution"
   ]
  },
  {
   "cell_type": "code",
   "execution_count": null,
   "id": "b9434f54",
   "metadata": {},
   "outputs": [],
   "source": [
    "# Define variational problem\n",
    "u = TrialFunction(V)\n",
    "v = TestFunction(V)\n",
    "f = Constant(-6.0)\n",
    "\n",
    "a = dot(grad(u), grad(v))*dx\n",
    "L = f*v*dx\n",
    "\n",
    "# Compute solution\n",
    "u = Function(V)\n",
    "solve(a == L, u, bc)\n",
    "\n",
    "# Plot solution and mesh\n",
    "plot(u)\n",
    "plot(mesh)\n",
    "\n",
    "# Hold plot\n",
    "plt.show()"
   ]
  },
  {
   "cell_type": "markdown",
   "id": "96fad3e1",
   "metadata": {},
   "source": [
    "##### Compute the maximum and L2 error"
   ]
  },
  {
   "cell_type": "code",
   "execution_count": null,
   "id": "c17784ba",
   "metadata": {},
   "outputs": [],
   "source": [
    "# Compute error in L2 norm\n",
    "error_L2 = errornorm(u_D, u, 'L2')\n",
    "\n",
    "# Compute maximum error at vertices\n",
    "vertex_values_u_D = u_D.compute_vertex_values(mesh)\n",
    "vertex_values_u = u.compute_vertex_values(mesh)\n",
    "error_max = np.max(np.abs(vertex_values_u_D - vertex_values_u))\n",
    "\n",
    "# Print errors\n",
    "print('error_L2  =', error_L2)\n",
    "print('error_max =', error_max)"
   ]
  }
 ],
 "metadata": {
  "kernelspec": {
   "display_name": "Python 3 (ipykernel)",
   "language": "python",
   "name": "python3"
  },
  "language_info": {
   "codemirror_mode": {
    "name": "ipython",
    "version": 3
   },
   "file_extension": ".py",
   "mimetype": "text/x-python",
   "name": "python",
   "nbconvert_exporter": "python",
   "pygments_lexer": "ipython3",
   "version": "3.9.6"
  }
 },
 "nbformat": 4,
 "nbformat_minor": 5
}
